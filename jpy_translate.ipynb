{
 "cells": [
  {
   "cell_type": "code",
   "execution_count": 16,
   "metadata": {
    "metadata": {}
   },
   "outputs": [
    {
     "name": "stderr",
     "output_type": "stream",
     "text": [
      "Some weights of Wav2Vec2ForCTC were not initialized from the model checkpoint at ./wav2vec2-base-960h and are newly initialized: ['wav2vec2.masked_spec_embed']\n",
      "You should probably TRAIN this model on a down-stream task to be able to use it for predictions and inference.\n"
     ]
    }
   ],
   "source": [
    "from transformers import Wav2Vec2ForCTC, Wav2Vec2Processor\n",
    "\n",
    "model_path = \"./wav2vec2-base-960h\"\n",
    "model = Wav2Vec2ForCTC.from_pretrained(model_path)\n",
    "processor = Wav2Vec2Processor.from_pretrained(model_path)"
   ]
  },
  {
   "cell_type": "code",
   "execution_count": 18,
   "metadata": {
    "metadata": {}
   },
   "outputs": [
    {
     "name": "stdout",
     "output_type": "stream",
     "text": [
      "语音转文字结果: WHEN I WAS IN MIDDOW SCHOOL I JOINED A QUATERAL EXCHANGE PROGRAMM THAT TAKE ME TO THE UNITED STATES IT WAS MY FIRST TIME TOLLING ABROAD THAND I WAS ABOSE NAVORS AND EXCITED OVER TRIP LASTED TWO WITS AND DURING THAT TIME WE VISITED SEVERAL CITIES UNIVERSITIES AND FAMOUS LANDMARKS ONE AFTHE MOST MEMORABLE EXPERIENCES WAS VISITING HOVER UNIVERSITY THE CAMBERS WAS UCCESSFULLY LIKE WHAT I HAVE SEEN IMOVIES HISTARIC BETING SURROUNDED BY LUSH GREENERY I REMEMBER STANDING IN FRONT AFTER IRONIC WINNER LIBRARY TAKING POTOS AND IMAGINING WHAT IT WOULD BE ALIKE TO STUDY HERE DURING I REGIT TORE THE STUDENT GUIDE SHARED FASCINATING STORIES OF ALIVE AT HOVARDS INCLUDING THE TRADITIONS AND CHALLENGES STUDENTS FATES AN OTHER AN FORGETBLE MOMENT WAS WHEN WE VISITED TIMES QUEER IN NEW YORK CITY THE BRID LIDES CHINED BILLBOARDS AND THE SHEER ENERGY OF THE PLACE WERE OVERWHELM ME HOWEVER ONE AFTER FUNNEST INCIDENTS HAPPENED AT LUCCO DINNER WHEN I TRIED IN OTERAR TURKEY SENVITS I ACCIDENTINLY SAID CHICKEN INSAID AND WHEN MY ORDER ARRIVED I WAS TO EMBARRASS TO CORRECT IT SO I JUST ATE IT QUITICALLY THIS TRIP WAS NOT ONLY AN APPOTERNITY TO IMPROVE MY ENGLISH BUT ALSO A CHANS TIL LEARN ABOUT AMERICAN COUCER MADE NEW FRIENDS AS STEP OUT OF MY COVERZON IT LAUGH A DEEP IMPRESSION ON ME AS SPARKED MY INTEREST IN STUDYING ABROD IN THE FUTURE\n"
     ]
    }
   ],
   "source": [
    "import torch\n",
    "import librosa\n",
    "\n",
    "audio_path = \"CBU0521DD_stories/00020.wav\"\n",
    "audio, sampling_rate = librosa.load(audio_path, sr=None)  # None 保持原始采样率\n",
    "\n",
    "# 如果采样率不是16kHz，需要重新采样\n",
    "if sampling_rate != 16000:\n",
    "    audio = librosa.resample(audio, orig_sr=sampling_rate, target_sr=16000)\n",
    "\n",
    "# 使用处理器进行预处理\n",
    "inputs = processor(audio, sampling_rate=16000, return_tensors=\"pt\", padding=True)\n",
    "\n",
    "with torch.no_grad():\n",
    "    logits = model(**inputs).logits\n",
    "\n",
    "# 获取预测的ID\n",
    "predicted_ids = torch.argmax(logits, dim=-1)\n",
    "\n",
    "# 使用分词器将预测的ID转换为文本\n",
    "transcription = processor.batch_decode(predicted_ids)\n",
    "\n",
    "print(\"语音转文字结果:\", transcription[0])"
   ]
  },
  {
   "cell_type": "code",
   "execution_count": 17,
   "metadata": {
    "metadata": {}
   },
   "outputs": [
    {
     "name": "stdout",
     "output_type": "stream",
     "text": [
      "语音转文字结果: WHEN I WAS IN MIDDOW SCHOOL I JOINED A QUATERAL EXCHANGE PROGRAMM THAT TAKE ME TO THE UNITED STATES IT WAS MY FIRST TIME TOLLING ABROAD THAND I WAS ABOSE NAVORS AND EXCITED OVER TRIP LASTED TWO WITS AND DURING THAT TIME WE VISITED SEVERAL CITIES UNIVERSITIES AND FAMOUS LANDMARKS ONE AFTHE MOST MEMORABLE EXPERIENCES WAS VISITING HOVER UNIVERSITY THE CAMBERS WAS UCCESSFULLY LIKE WHAT I HAVE SEEN IMOVIES HISTARIC BETING SURROUNDED BY LUSH GREENERY I REMEMBER STANDING IN FRONT AFTER IRONIC WINNER LIBRARY TAKING POTOS AND IMAGINING WHAT IT WOULD BE ALIKE TO STUDY HERE DURING I REGIT TORE THE STUDENT GUIDE SHARED FASCINATING STORIES OF ALIVE AT HOVARDS INCLUDING THE TRADITIONS AND CHALLENGES STUDENTS FATES AN OTHER AN FORGETBLE MOMENT WAS WHEN WE VISITED TIMES QUEER IN NEW YORK CITY THE BRID LIDES CHINED BILLBOARDS AND THE SHEER ENERGY OF THE PLACE WERE OVERWHELM ME HOWEVER ONE AFTER FUNNEST INCIDENTS HAPPENED AT LUCCO DINNER WHEN I TRIED IN OTERAR TURKEY SENVITS I ACCIDENTINLY SAID CHICKEN INSAID AND WHEN MY ORDER ARRIVED I WAS TO EMBARRASS TO CORRECT IT SO I JUST ATE IT QUITICALLY THIS TRIP WAS NOT ONLY AN APPOTERNITY TO IMPROVE MY ENGLISH BUT ALSO A CHANS TIL LEARN ABOUT AMERICAN COUCER MADE NEW FRIENDS AS STEP OUT OF MY COVERZON IT LAUGH A DEEP IMPRESSION ON ME AS SPARKED MY INTEREST IN STUDYING ABROD IN THE FUTURE\n"
     ]
    }
   ],
   "source": []
  }
 ],
 "metadata": {
  "kernelspec": {
   "display_name": "base",
   "language": "python",
   "name": "python3"
  },
  "language_info": {
   "codemirror_mode": {
    "name": "ipython",
    "version": 3
   },
   "file_extension": ".py",
   "mimetype": "text/x-python",
   "name": "python",
   "nbconvert_exporter": "python",
   "pygments_lexer": "ipython3",
   "version": "3.10.12"
  }
 },
 "nbformat": 4,
 "nbformat_minor": 2
}
