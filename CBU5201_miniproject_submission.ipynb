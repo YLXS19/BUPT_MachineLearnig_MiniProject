{
  "cells": [
    {
      "cell_type": "markdown",
      "metadata": {
        "id": "91MsGMTna_P9"
      },
      "source": [
        "# CBU5201 迷你项目提交\n",
        "\n",
        "## 什么是问题？\n",
        "\n",
        "今年的迷你项目考虑的问题是预测叙述故事是否真实。具体而言，您将构建一个机器学习模型，该模型以**3-5分钟**的音频录音作为输入，并预测叙述的故事是真实的还是不真实的。\n",
        "\n",
        "## 我将使用哪个数据集？\n",
        "\n",
        "总共有100个样本，包括完整的音频录音、*语言*属性和*故事类型*属性，供您构建机器学习模型。音频录音可以从以下链接下载：\n",
        "\n",
        "https://github.com/CBU5201Datasets/Deception\n",
        "\n",
        "记录每个音频文件的*语言*属性和*故事类型*的CSV文件可以从以下链接下载：\n",
        "\n",
        "https://github.com/CBU5201Datasets/Deception/blob/main/CBU0521DD_stories_attributes.csv\n",
        "\n",
        "## 我将提交什么？\n",
        "\n",
        "您的提交将包括**一个单一的Jupyter笔记本**，该笔记本应包括：\n",
        "\n",
        "*   **文本单元**，用您自己的语言严格而简洁地描述您的方法、每个实施步骤以及您获得的结果，\n",
        "*   **代码单元**，实现每个步骤，\n",
        "*   **输出单元**，即每个代码单元的输出，\n",
        "\n",
        "您的笔记本**应具有以下结构**。请确保您**运行所有单元**并在提交前**保存输出单元**。\n",
        "\n",
        "请将您的笔记本保存为：\n",
        "\n",
        "* CBU5201_miniproject.ipynb\n",
        "\n",
        "## 我的提交将如何被评估？\n",
        "\n",
        "这次提交总分为16分。我们将重视：\n",
        "\n",
        "*   您写作的简洁性。\n",
        "*   您方法论的正确性。\n",
        "*   您分析和结论的正确性。\n",
        "*   完整性。\n",
        "*   原创性以及尝试新事物的努力。\n",
        "\n",
        "（4分将根据您在第一阶段的音频提交给予。）\n",
        "\n",
        "**您解决方案的最终表现将不会影响您的成绩**。我们将评估您的理解。如果您有良好的理解，您将使用正确的方法，选择合适的方式，正确评估解决方案的质量，有时承认尽管您的尝试，您的解决方案仍然不够好，并批判性地反思您的工作，以建议您可以做得不同的地方。\n",
        "\n",
        "请注意**我们打算解决的问题是非常困难的**。如果您没有获得良好的结果，不要气馁，**困难正是使其有趣且值得尝试的原因**。\n",
        "\n",
        "## 展示您的能力\n",
        "\n",
        "为什么不使用**GitHub**来管理您的项目呢？GitHub可以作为展示您所做工作的名片，并证明您的数据科学技能、知识和经验。**潜在的雇主总是在寻找这样的证据**。\n"
      ]
    },
    {
      "cell_type": "markdown",
      "metadata": {},
      "source": [
        "-------------------------------------- PLEASE USE THE STRUCTURE BELOW THIS LINE --------------------------------------------"
      ]
    },
    {
      "cell_type": "markdown",
      "metadata": {},
      "source": [
        "# [Your title goes here]"
      ]
    },
    {
      "cell_type": "markdown",
      "metadata": {
        "id": "ZaGn4ICrfqXZ"
      },
      "source": [
        "# 1 Author\n",
        "\n",
        "**Student Name**:  \n",
        "**Student ID**:  \n",
        "\n"
      ]
    },
    {
      "cell_type": "markdown",
      "metadata": {
        "id": "o38VQkcdKd6k"
      },
      "source": [
        "# 2 Problem formulation\n",
        "\n",
        "Describe the machine learning problem that you want to solve and explain what's interesting about it."
      ]
    },
    {
      "cell_type": "markdown",
      "metadata": {
        "id": "bPTSuaB9L2jU"
      },
      "source": [
        "# 3 Methodology\n",
        "\n",
        "Describe your methodology. Specifically, describe your training task and validation task, and how model performance is defined (i.e. accuracy, confusion matrix, etc). Any other tasks that might help you build your model should also be described here."
      ]
    },
    {
      "cell_type": "markdown",
      "metadata": {
        "id": "N3BwrtEdLDit"
      },
      "source": [
        "# 4 Implemented ML prediction pipelines\n",
        "\n",
        "Describe the ML prediction pipelines that you will explore. Clearly identify their input and output, stages and format of the intermediate data structures moving from one stage to the next. It's up to you to decide which stages to include in your pipeline. After providing an overview, describe in more detail each one of the stages that you have included in their corresponding subsections (i.e. 4.1 Transformation stage, 4.2 Model stage, 4.3 Ensemble stage)."
      ]
    },
    {
      "cell_type": "markdown",
      "metadata": {
        "id": "j1nDXnzYLLH6"
      },
      "source": [
        "## 4.1 Transformation stage\n",
        "\n",
        "Describe any transformations, such as feature extraction. Identify input and output. Explain why you have chosen this transformation stage."
      ]
    },
    {
      "cell_type": "markdown",
      "metadata": {
        "id": "0F5_kI95LuZ2"
      },
      "source": [
        "## 4.2 Model stage\n",
        "\n",
        "Describe the ML model(s) that you will build. Explain why you have chosen them."
      ]
    },
    {
      "cell_type": "markdown",
      "metadata": {},
      "source": [
        "## 4.3 Ensemble stage\n",
        "\n",
        "Describe any ensemble approach you might have included. Explain why you have chosen them."
      ]
    },
    {
      "cell_type": "markdown",
      "metadata": {
        "id": "HZQPxztuL9AW"
      },
      "source": [
        "# 5 Dataset\n",
        "\n",
        "Describe the datasets that you will create to build and evaluate your models. Your datasets need to be based on our MLEnd Deception Dataset. After describing the datasets, build them here. You can explore and visualise the datasets here as well. \n",
        "\n",
        "If you are building separate training and validatio datasets, do it here. Explain clearly how you are building such datasets, how you are ensuring that they serve their purpose (i.e. they are independent and consist of IID samples) and any limitations you might think of. It is always important to identify any limitations as early as possible. The scope and validity of your conclusions will depend on your ability to understand the limitations of your approach.\n",
        "\n",
        "If you are exploring different datasets, create different subsections for each dataset and give them a name (e.g. 5.1 Dataset A, 5.2 Dataset B, 5.3 Dataset 5.3) .\n",
        "\n"
      ]
    },
    {
      "cell_type": "markdown",
      "metadata": {
        "id": "2qf7GN1aeXJI"
      },
      "source": [
        "# 6 Experiments and results\n",
        "\n",
        "Carry out your experiments here. Analyse and explain your results. Unexplained results are worthless."
      ]
    },
    {
      "cell_type": "markdown",
      "metadata": {
        "id": "fSrJCR_cekPO"
      },
      "source": [
        "# 7 Conclusions\n",
        "\n",
        "Your conclusions, suggestions for improvements, etc should go here."
      ]
    },
    {
      "cell_type": "markdown",
      "metadata": {},
      "source": [
        "# 8 References\n",
        "\n",
        "Acknowledge others here (books, papers, repositories, libraries, tools) "
      ]
    }
  ],
  "metadata": {
    "colab": {
      "provenance": []
    },
    "kernelspec": {
      "display_name": "Python (Pyodide)",
      "language": "python",
      "name": "python"
    },
    "language_info": {
      "codemirror_mode": {
        "name": "python",
        "version": 3
      },
      "file_extension": ".py",
      "mimetype": "text/x-python",
      "name": "python",
      "nbconvert_exporter": "python",
      "pygments_lexer": "ipython3",
      "version": "3.8"
    }
  },
  "nbformat": 4,
  "nbformat_minor": 4
}
